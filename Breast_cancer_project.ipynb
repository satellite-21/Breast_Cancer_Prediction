{
 "cells": [
  {
   "cell_type": "code",
   "execution_count": 1,
   "id": "b606e653",
   "metadata": {},
   "outputs": [],
   "source": [
    "import pandas as pd\n",
    "import numpy as np\n",
    "import matplotlib.pyplot as plt\n",
    "import seaborn as sns\n",
    "%matplotlib inline"
   ]
  },
  {
   "cell_type": "code",
   "execution_count": 2,
   "id": "5324f38a",
   "metadata": {},
   "outputs": [
    {
     "data": {
      "text/html": [
       "<div>\n",
       "<style scoped>\n",
       "    .dataframe tbody tr th:only-of-type {\n",
       "        vertical-align: middle;\n",
       "    }\n",
       "\n",
       "    .dataframe tbody tr th {\n",
       "        vertical-align: top;\n",
       "    }\n",
       "\n",
       "    .dataframe thead th {\n",
       "        text-align: right;\n",
       "    }\n",
       "</style>\n",
       "<table border=\"1\" class=\"dataframe\">\n",
       "  <thead>\n",
       "    <tr style=\"text-align: right;\">\n",
       "      <th></th>\n",
       "      <th>Sample code number</th>\n",
       "      <th>Clump Thickness</th>\n",
       "      <th>Uniformity of Cell Size</th>\n",
       "      <th>Uniformity of Cell Shape</th>\n",
       "      <th>Marginal Adhesion</th>\n",
       "      <th>Single Epithelial Cell Size</th>\n",
       "      <th>Bare Nuclei</th>\n",
       "      <th>Bland Chromatin</th>\n",
       "      <th>Normal Nucleoli</th>\n",
       "      <th>Mitoses</th>\n",
       "      <th>Class</th>\n",
       "    </tr>\n",
       "  </thead>\n",
       "  <tbody>\n",
       "    <tr>\n",
       "      <th>0</th>\n",
       "      <td>1000025</td>\n",
       "      <td>5</td>\n",
       "      <td>1</td>\n",
       "      <td>1</td>\n",
       "      <td>1</td>\n",
       "      <td>2</td>\n",
       "      <td>1</td>\n",
       "      <td>3</td>\n",
       "      <td>1</td>\n",
       "      <td>1</td>\n",
       "      <td>2</td>\n",
       "    </tr>\n",
       "    <tr>\n",
       "      <th>1</th>\n",
       "      <td>1002945</td>\n",
       "      <td>5</td>\n",
       "      <td>4</td>\n",
       "      <td>4</td>\n",
       "      <td>5</td>\n",
       "      <td>7</td>\n",
       "      <td>10</td>\n",
       "      <td>3</td>\n",
       "      <td>2</td>\n",
       "      <td>1</td>\n",
       "      <td>2</td>\n",
       "    </tr>\n",
       "    <tr>\n",
       "      <th>2</th>\n",
       "      <td>1015425</td>\n",
       "      <td>3</td>\n",
       "      <td>1</td>\n",
       "      <td>1</td>\n",
       "      <td>1</td>\n",
       "      <td>2</td>\n",
       "      <td>2</td>\n",
       "      <td>3</td>\n",
       "      <td>1</td>\n",
       "      <td>1</td>\n",
       "      <td>2</td>\n",
       "    </tr>\n",
       "    <tr>\n",
       "      <th>3</th>\n",
       "      <td>1016277</td>\n",
       "      <td>6</td>\n",
       "      <td>8</td>\n",
       "      <td>8</td>\n",
       "      <td>1</td>\n",
       "      <td>3</td>\n",
       "      <td>4</td>\n",
       "      <td>3</td>\n",
       "      <td>7</td>\n",
       "      <td>1</td>\n",
       "      <td>2</td>\n",
       "    </tr>\n",
       "    <tr>\n",
       "      <th>4</th>\n",
       "      <td>1017023</td>\n",
       "      <td>4</td>\n",
       "      <td>1</td>\n",
       "      <td>1</td>\n",
       "      <td>3</td>\n",
       "      <td>2</td>\n",
       "      <td>1</td>\n",
       "      <td>3</td>\n",
       "      <td>1</td>\n",
       "      <td>1</td>\n",
       "      <td>2</td>\n",
       "    </tr>\n",
       "  </tbody>\n",
       "</table>\n",
       "</div>"
      ],
      "text/plain": [
       "   Sample code number  Clump Thickness  Uniformity of Cell Size  \\\n",
       "0             1000025                5                        1   \n",
       "1             1002945                5                        4   \n",
       "2             1015425                3                        1   \n",
       "3             1016277                6                        8   \n",
       "4             1017023                4                        1   \n",
       "\n",
       "   Uniformity of Cell Shape  Marginal Adhesion  Single Epithelial Cell Size  \\\n",
       "0                         1                  1                            2   \n",
       "1                         4                  5                            7   \n",
       "2                         1                  1                            2   \n",
       "3                         8                  1                            3   \n",
       "4                         1                  3                            2   \n",
       "\n",
       "   Bare Nuclei  Bland Chromatin  Normal Nucleoli  Mitoses  Class  \n",
       "0            1                3                1        1      2  \n",
       "1           10                3                2        1      2  \n",
       "2            2                3                1        1      2  \n",
       "3            4                3                7        1      2  \n",
       "4            1                3                1        1      2  "
      ]
     },
     "execution_count": 2,
     "metadata": {},
     "output_type": "execute_result"
    }
   ],
   "source": [
    "df = pd.read_csv('data_set.csv')\n",
    "df.head()"
   ]
  },
  {
   "cell_type": "code",
   "execution_count": 3,
   "id": "cbcfcc4b",
   "metadata": {},
   "outputs": [],
   "source": [
    "def classify(i):\n",
    "    if i==4:\n",
    "        return 1\n",
    "    else:\n",
    "        return 0"
   ]
  },
  {
   "cell_type": "code",
   "execution_count": 4,
   "id": "06768ede",
   "metadata": {},
   "outputs": [
    {
     "name": "stdout",
     "output_type": "stream",
     "text": [
      "<class 'pandas.core.frame.DataFrame'>\n",
      "RangeIndex: 683 entries, 0 to 682\n",
      "Data columns (total 11 columns):\n",
      " #   Column                       Non-Null Count  Dtype\n",
      "---  ------                       --------------  -----\n",
      " 0   Sample code number           683 non-null    int64\n",
      " 1   Clump Thickness              683 non-null    int64\n",
      " 2   Uniformity of Cell Size      683 non-null    int64\n",
      " 3   Uniformity of Cell Shape     683 non-null    int64\n",
      " 4   Marginal Adhesion            683 non-null    int64\n",
      " 5   Single Epithelial Cell Size  683 non-null    int64\n",
      " 6   Bare Nuclei                  683 non-null    int64\n",
      " 7   Bland Chromatin              683 non-null    int64\n",
      " 8   Normal Nucleoli              683 non-null    int64\n",
      " 9   Mitoses                      683 non-null    int64\n",
      " 10  Class                        683 non-null    int64\n",
      "dtypes: int64(11)\n",
      "memory usage: 58.8 KB\n"
     ]
    }
   ],
   "source": [
    "df.info()"
   ]
  },
  {
   "cell_type": "code",
   "execution_count": 5,
   "id": "bd36f91a",
   "metadata": {},
   "outputs": [],
   "source": [
    "df['result'] = df['Class'].apply(classify)"
   ]
  },
  {
   "cell_type": "code",
   "execution_count": 6,
   "id": "2e0bc86d",
   "metadata": {},
   "outputs": [
    {
     "data": {
      "text/html": [
       "<div>\n",
       "<style scoped>\n",
       "    .dataframe tbody tr th:only-of-type {\n",
       "        vertical-align: middle;\n",
       "    }\n",
       "\n",
       "    .dataframe tbody tr th {\n",
       "        vertical-align: top;\n",
       "    }\n",
       "\n",
       "    .dataframe thead th {\n",
       "        text-align: right;\n",
       "    }\n",
       "</style>\n",
       "<table border=\"1\" class=\"dataframe\">\n",
       "  <thead>\n",
       "    <tr style=\"text-align: right;\">\n",
       "      <th></th>\n",
       "      <th>Sample code number</th>\n",
       "      <th>Clump Thickness</th>\n",
       "      <th>Uniformity of Cell Size</th>\n",
       "      <th>Uniformity of Cell Shape</th>\n",
       "      <th>Marginal Adhesion</th>\n",
       "      <th>Single Epithelial Cell Size</th>\n",
       "      <th>Bare Nuclei</th>\n",
       "      <th>Bland Chromatin</th>\n",
       "      <th>Normal Nucleoli</th>\n",
       "      <th>Mitoses</th>\n",
       "      <th>Class</th>\n",
       "      <th>result</th>\n",
       "    </tr>\n",
       "  </thead>\n",
       "  <tbody>\n",
       "    <tr>\n",
       "      <th>0</th>\n",
       "      <td>1000025</td>\n",
       "      <td>5</td>\n",
       "      <td>1</td>\n",
       "      <td>1</td>\n",
       "      <td>1</td>\n",
       "      <td>2</td>\n",
       "      <td>1</td>\n",
       "      <td>3</td>\n",
       "      <td>1</td>\n",
       "      <td>1</td>\n",
       "      <td>2</td>\n",
       "      <td>0</td>\n",
       "    </tr>\n",
       "    <tr>\n",
       "      <th>1</th>\n",
       "      <td>1002945</td>\n",
       "      <td>5</td>\n",
       "      <td>4</td>\n",
       "      <td>4</td>\n",
       "      <td>5</td>\n",
       "      <td>7</td>\n",
       "      <td>10</td>\n",
       "      <td>3</td>\n",
       "      <td>2</td>\n",
       "      <td>1</td>\n",
       "      <td>2</td>\n",
       "      <td>0</td>\n",
       "    </tr>\n",
       "    <tr>\n",
       "      <th>2</th>\n",
       "      <td>1015425</td>\n",
       "      <td>3</td>\n",
       "      <td>1</td>\n",
       "      <td>1</td>\n",
       "      <td>1</td>\n",
       "      <td>2</td>\n",
       "      <td>2</td>\n",
       "      <td>3</td>\n",
       "      <td>1</td>\n",
       "      <td>1</td>\n",
       "      <td>2</td>\n",
       "      <td>0</td>\n",
       "    </tr>\n",
       "    <tr>\n",
       "      <th>3</th>\n",
       "      <td>1016277</td>\n",
       "      <td>6</td>\n",
       "      <td>8</td>\n",
       "      <td>8</td>\n",
       "      <td>1</td>\n",
       "      <td>3</td>\n",
       "      <td>4</td>\n",
       "      <td>3</td>\n",
       "      <td>7</td>\n",
       "      <td>1</td>\n",
       "      <td>2</td>\n",
       "      <td>0</td>\n",
       "    </tr>\n",
       "    <tr>\n",
       "      <th>4</th>\n",
       "      <td>1017023</td>\n",
       "      <td>4</td>\n",
       "      <td>1</td>\n",
       "      <td>1</td>\n",
       "      <td>3</td>\n",
       "      <td>2</td>\n",
       "      <td>1</td>\n",
       "      <td>3</td>\n",
       "      <td>1</td>\n",
       "      <td>1</td>\n",
       "      <td>2</td>\n",
       "      <td>0</td>\n",
       "    </tr>\n",
       "  </tbody>\n",
       "</table>\n",
       "</div>"
      ],
      "text/plain": [
       "   Sample code number  Clump Thickness  Uniformity of Cell Size  \\\n",
       "0             1000025                5                        1   \n",
       "1             1002945                5                        4   \n",
       "2             1015425                3                        1   \n",
       "3             1016277                6                        8   \n",
       "4             1017023                4                        1   \n",
       "\n",
       "   Uniformity of Cell Shape  Marginal Adhesion  Single Epithelial Cell Size  \\\n",
       "0                         1                  1                            2   \n",
       "1                         4                  5                            7   \n",
       "2                         1                  1                            2   \n",
       "3                         8                  1                            3   \n",
       "4                         1                  3                            2   \n",
       "\n",
       "   Bare Nuclei  Bland Chromatin  Normal Nucleoli  Mitoses  Class  result  \n",
       "0            1                3                1        1      2       0  \n",
       "1           10                3                2        1      2       0  \n",
       "2            2                3                1        1      2       0  \n",
       "3            4                3                7        1      2       0  \n",
       "4            1                3                1        1      2       0  "
      ]
     },
     "execution_count": 6,
     "metadata": {},
     "output_type": "execute_result"
    }
   ],
   "source": [
    "df.head()"
   ]
  },
  {
   "cell_type": "code",
   "execution_count": 7,
   "id": "54c93036",
   "metadata": {},
   "outputs": [],
   "source": [
    "df.drop('Class', inplace=True,axis=1)"
   ]
  },
  {
   "cell_type": "code",
   "execution_count": 8,
   "id": "002a4783",
   "metadata": {},
   "outputs": [
    {
     "data": {
      "text/html": [
       "<div>\n",
       "<style scoped>\n",
       "    .dataframe tbody tr th:only-of-type {\n",
       "        vertical-align: middle;\n",
       "    }\n",
       "\n",
       "    .dataframe tbody tr th {\n",
       "        vertical-align: top;\n",
       "    }\n",
       "\n",
       "    .dataframe thead th {\n",
       "        text-align: right;\n",
       "    }\n",
       "</style>\n",
       "<table border=\"1\" class=\"dataframe\">\n",
       "  <thead>\n",
       "    <tr style=\"text-align: right;\">\n",
       "      <th></th>\n",
       "      <th>Sample code number</th>\n",
       "      <th>Clump Thickness</th>\n",
       "      <th>Uniformity of Cell Size</th>\n",
       "      <th>Uniformity of Cell Shape</th>\n",
       "      <th>Marginal Adhesion</th>\n",
       "      <th>Single Epithelial Cell Size</th>\n",
       "      <th>Bare Nuclei</th>\n",
       "      <th>Bland Chromatin</th>\n",
       "      <th>Normal Nucleoli</th>\n",
       "      <th>Mitoses</th>\n",
       "      <th>result</th>\n",
       "    </tr>\n",
       "  </thead>\n",
       "  <tbody>\n",
       "    <tr>\n",
       "      <th>0</th>\n",
       "      <td>1000025</td>\n",
       "      <td>5</td>\n",
       "      <td>1</td>\n",
       "      <td>1</td>\n",
       "      <td>1</td>\n",
       "      <td>2</td>\n",
       "      <td>1</td>\n",
       "      <td>3</td>\n",
       "      <td>1</td>\n",
       "      <td>1</td>\n",
       "      <td>0</td>\n",
       "    </tr>\n",
       "    <tr>\n",
       "      <th>1</th>\n",
       "      <td>1002945</td>\n",
       "      <td>5</td>\n",
       "      <td>4</td>\n",
       "      <td>4</td>\n",
       "      <td>5</td>\n",
       "      <td>7</td>\n",
       "      <td>10</td>\n",
       "      <td>3</td>\n",
       "      <td>2</td>\n",
       "      <td>1</td>\n",
       "      <td>0</td>\n",
       "    </tr>\n",
       "    <tr>\n",
       "      <th>2</th>\n",
       "      <td>1015425</td>\n",
       "      <td>3</td>\n",
       "      <td>1</td>\n",
       "      <td>1</td>\n",
       "      <td>1</td>\n",
       "      <td>2</td>\n",
       "      <td>2</td>\n",
       "      <td>3</td>\n",
       "      <td>1</td>\n",
       "      <td>1</td>\n",
       "      <td>0</td>\n",
       "    </tr>\n",
       "    <tr>\n",
       "      <th>3</th>\n",
       "      <td>1016277</td>\n",
       "      <td>6</td>\n",
       "      <td>8</td>\n",
       "      <td>8</td>\n",
       "      <td>1</td>\n",
       "      <td>3</td>\n",
       "      <td>4</td>\n",
       "      <td>3</td>\n",
       "      <td>7</td>\n",
       "      <td>1</td>\n",
       "      <td>0</td>\n",
       "    </tr>\n",
       "    <tr>\n",
       "      <th>4</th>\n",
       "      <td>1017023</td>\n",
       "      <td>4</td>\n",
       "      <td>1</td>\n",
       "      <td>1</td>\n",
       "      <td>3</td>\n",
       "      <td>2</td>\n",
       "      <td>1</td>\n",
       "      <td>3</td>\n",
       "      <td>1</td>\n",
       "      <td>1</td>\n",
       "      <td>0</td>\n",
       "    </tr>\n",
       "  </tbody>\n",
       "</table>\n",
       "</div>"
      ],
      "text/plain": [
       "   Sample code number  Clump Thickness  Uniformity of Cell Size  \\\n",
       "0             1000025                5                        1   \n",
       "1             1002945                5                        4   \n",
       "2             1015425                3                        1   \n",
       "3             1016277                6                        8   \n",
       "4             1017023                4                        1   \n",
       "\n",
       "   Uniformity of Cell Shape  Marginal Adhesion  Single Epithelial Cell Size  \\\n",
       "0                         1                  1                            2   \n",
       "1                         4                  5                            7   \n",
       "2                         1                  1                            2   \n",
       "3                         8                  1                            3   \n",
       "4                         1                  3                            2   \n",
       "\n",
       "   Bare Nuclei  Bland Chromatin  Normal Nucleoli  Mitoses  result  \n",
       "0            1                3                1        1       0  \n",
       "1           10                3                2        1       0  \n",
       "2            2                3                1        1       0  \n",
       "3            4                3                7        1       0  \n",
       "4            1                3                1        1       0  "
      ]
     },
     "execution_count": 8,
     "metadata": {},
     "output_type": "execute_result"
    }
   ],
   "source": [
    "df.head()"
   ]
  },
  {
   "cell_type": "code",
   "execution_count": 9,
   "id": "0e1e2e10",
   "metadata": {},
   "outputs": [
    {
     "data": {
      "text/plain": [
       "PCA(n_components=2)"
      ]
     },
     "execution_count": 9,
     "metadata": {},
     "output_type": "execute_result"
    }
   ],
   "source": [
    "from sklearn.decomposition import PCA\n",
    "pca = PCA(n_components =2 )\n",
    "pca.fit(df[df.columns[1:-1]])"
   ]
  },
  {
   "cell_type": "code",
   "execution_count": 10,
   "id": "7237378e",
   "metadata": {},
   "outputs": [],
   "source": [
    "x_pca = pca.transform(df[df.columns[1:-1]])"
   ]
  },
  {
   "cell_type": "code",
   "execution_count": 11,
   "id": "a1a201e9",
   "metadata": {},
   "outputs": [
    {
     "data": {
      "text/plain": [
       "array([[-4.48210185,  0.02402335],\n",
       "       [ 4.81965073, -4.73973426],\n",
       "       [-4.63295991, -0.609533  ],\n",
       "       ...,\n",
       "       [10.26058339,  7.27245094],\n",
       "       [ 6.40116473,  2.4997811 ],\n",
       "       [ 7.50116539,  1.2122419 ]])"
      ]
     },
     "execution_count": 11,
     "metadata": {},
     "output_type": "execute_result"
    }
   ],
   "source": [
    "x_pca"
   ]
  },
  {
   "cell_type": "code",
   "execution_count": 12,
   "id": "15d67a22",
   "metadata": {},
   "outputs": [
    {
     "data": {
      "text/plain": [
       "<matplotlib.collections.PathCollection at 0x1fbed02d940>"
      ]
     },
     "execution_count": 12,
     "metadata": {},
     "output_type": "execute_result"
    },
    {
     "data": {
      "image/png": "[encoded data removed]",
      "text/plain": [
       "<Figure size 432x288 with 1 Axes>"
      ]
     },
     "metadata": {
      "needs_background": "light"
     },
     "output_type": "display_data"
    }
   ],
   "source": [
    "plt.figure()\n",
    "plt.scatter(x = x_pca[:,0],y = x_pca[:,1], c = df['result'],cmap = 'plasma')"
   ]
  },
  {
   "cell_type": "code",
   "execution_count": 13,
   "id": "e5a93136",
   "metadata": {},
   "outputs": [],
   "source": [
    "from sklearn.svm import SVC\n",
    "svc = SVC()\n",
    "from sklearn.model_selection import train_test_split\n",
    "X_tr,X_te,y_tr,y_te  = train_test_split(x_pca , df['result'],test_size=0.3)"
   ]
  },
  {
   "cell_type": "code",
   "execution_count": 14,
   "id": "51527349",
   "metadata": {},
   "outputs": [
    {
     "data": {
      "text/plain": [
       "SVC()"
      ]
     },
     "execution_count": 14,
     "metadata": {},
     "output_type": "execute_result"
    }
   ],
   "source": [
    "svc.fit(X_tr,y_tr)"
   ]
  },
  {
   "cell_type": "code",
   "execution_count": 15,
   "id": "36816f31",
   "metadata": {},
   "outputs": [],
   "source": [
    "predictions = svc.predict(X_te)"
   ]
  },
  {
   "cell_type": "code",
   "execution_count": 16,
   "id": "29ce02ee",
   "metadata": {},
   "outputs": [],
   "source": [
    "from sklearn.metrics import classification_report,confusion_matrix"
   ]
  },
  {
   "cell_type": "code",
   "execution_count": 17,
   "id": "a866ad61",
   "metadata": {},
   "outputs": [
    {
     "data": {
      "text/plain": [
       "array([[142,   3],\n",
       "       [  0,  60]], dtype=int64)"
      ]
     },
     "execution_count": 17,
     "metadata": {},
     "output_type": "execute_result"
    }
   ],
   "source": [
    "confusion_matrix(y_te,predictions)"
   ]
  },
  {
   "cell_type": "code",
   "execution_count": 18,
   "id": "c940b0c8",
   "metadata": {},
   "outputs": [
    {
     "name": "stdout",
     "output_type": "stream",
     "text": [
      "              precision    recall  f1-score   support\n",
      "\n",
      "           0       1.00      0.98      0.99       145\n",
      "           1       0.95      1.00      0.98        60\n",
      "\n",
      "    accuracy                           0.99       205\n",
      "   macro avg       0.98      0.99      0.98       205\n",
      "weighted avg       0.99      0.99      0.99       205\n",
      "\n"
     ]
    }
   ],
   "source": [
    "print(classification_report(y_te,predictions))"
   ]
  },
  {
   "cell_type": "code",
   "execution_count": 19,
   "id": "da0090db",
   "metadata": {},
   "outputs": [
    {
     "name": "stdout",
     "output_type": "stream",
     "text": [
      "Fitting 5 folds for each of 25 candidates, totalling 125 fits\n",
      "[CV 1/5] END ....................C=0.1, gamma=1;, score=0.938 total time=   0.0s\n",
      "[CV 2/5] END ....................C=0.1, gamma=1;, score=0.906 total time=   0.0s\n",
      "[CV 3/5] END ....................C=0.1, gamma=1;, score=0.917 total time=   0.0s\n",
      "[CV 4/5] END ....................C=0.1, gamma=1;, score=0.979 total time=   0.0s\n",
      "[CV 5/5] END ....................C=0.1, gamma=1;, score=0.905 total time=   0.0s\n",
      "[CV 1/5] END ..................C=0.1, gamma=0.1;, score=0.979 total time=   0.0s\n",
      "[CV 2/5] END ..................C=0.1, gamma=0.1;, score=0.938 total time=   0.0s\n",
      "[CV 3/5] END ..................C=0.1, gamma=0.1;, score=0.948 total time=   0.0s\n",
      "[CV 4/5] END ..................C=0.1, gamma=0.1;, score=0.989 total time=   0.0s\n",
      "[CV 5/5] END ..................C=0.1, gamma=0.1;, score=0.979 total time=   0.0s\n",
      "[CV 1/5] END .................C=0.1, gamma=0.01;, score=0.969 total time=   0.0s\n",
      "[CV 2/5] END .................C=0.1, gamma=0.01;, score=0.948 total time=   0.0s\n",
      "[CV 3/5] END .................C=0.1, gamma=0.01;, score=0.927 total time=   0.0s\n",
      "[CV 4/5] END .................C=0.1, gamma=0.01;, score=0.989 total time=   0.0s\n",
      "[CV 5/5] END .................C=0.1, gamma=0.01;, score=0.968 total time=   0.0s\n",
      "[CV 1/5] END ................C=0.1, gamma=0.001;, score=0.948 total time=   0.0s\n",
      "[CV 2/5] END ................C=0.1, gamma=0.001;, score=0.948 total time=   0.0s\n",
      "[CV 3/5] END ................C=0.1, gamma=0.001;, score=0.948 total time=   0.0s\n",
      "[CV 4/5] END ................C=0.1, gamma=0.001;, score=0.958 total time=   0.0s\n",
      "[CV 5/5] END ................C=0.1, gamma=0.001;, score=0.937 total time=   0.0s\n",
      "[CV 1/5] END ...............C=0.1, gamma=0.0001;, score=0.625 total time=   0.0s\n",
      "[CV 2/5] END ...............C=0.1, gamma=0.0001;, score=0.625 total time=   0.0s\n",
      "[CV 3/5] END ...............C=0.1, gamma=0.0001;, score=0.625 total time=   0.0s\n",
      "[CV 4/5] END ...............C=0.1, gamma=0.0001;, score=0.632 total time=   0.0s\n",
      "[CV 5/5] END ...............C=0.1, gamma=0.0001;, score=0.621 total time=   0.0s\n",
      "[CV 1/5] END ......................C=1, gamma=1;, score=0.969 total time=   0.0s\n",
      "[CV 2/5] END ......................C=1, gamma=1;, score=0.917 total time=   0.0s\n",
      "[CV 3/5] END ......................C=1, gamma=1;, score=0.948 total time=   0.0s\n",
      "[CV 4/5] END ......................C=1, gamma=1;, score=0.989 total time=   0.0s\n",
      "[CV 5/5] END ......................C=1, gamma=1;, score=0.947 total time=   0.0s\n",
      "[CV 1/5] END ....................C=1, gamma=0.1;, score=0.979 total time=   0.0s\n",
      "[CV 2/5] END ....................C=1, gamma=0.1;, score=0.927 total time=   0.0s\n",
      "[CV 3/5] END ....................C=1, gamma=0.1;, score=0.948 total time=   0.0s\n",
      "[CV 4/5] END ....................C=1, gamma=0.1;, score=0.989 total time=   0.0s\n",
      "[CV 5/5] END ....................C=1, gamma=0.1;, score=0.979 total time=   0.0s\n",
      "[CV 1/5] END ...................C=1, gamma=0.01;, score=0.969 total time=   0.0s\n",
      "[CV 2/5] END ...................C=1, gamma=0.01;, score=0.948 total time=   0.0s\n",
      "[CV 3/5] END ...................C=1, gamma=0.01;, score=0.948 total time=   0.0s\n",
      "[CV 4/5] END ...................C=1, gamma=0.01;, score=0.989 total time=   0.0s\n",
      "[CV 5/5] END ...................C=1, gamma=0.01;, score=0.979 total time=   0.0s\n",
      "[CV 1/5] END ..................C=1, gamma=0.001;, score=0.969 total time=   0.0s\n",
      "[CV 2/5] END ..................C=1, gamma=0.001;, score=0.948 total time=   0.0s\n",
      "[CV 3/5] END ..................C=1, gamma=0.001;, score=0.938 total time=   0.0s\n",
      "[CV 4/5] END ..................C=1, gamma=0.001;, score=0.989 total time=   0.0s\n",
      "[CV 5/5] END ..................C=1, gamma=0.001;, score=0.968 total time=   0.0s\n",
      "[CV 1/5] END .................C=1, gamma=0.0001;, score=0.938 total time=   0.0s\n",
      "[CV 2/5] END .................C=1, gamma=0.0001;, score=0.948 total time=   0.0s\n",
      "[CV 3/5] END .................C=1, gamma=0.0001;, score=0.948 total time=   0.0s\n",
      "[CV 4/5] END .................C=1, gamma=0.0001;, score=0.958 total time=   0.0s\n",
      "[CV 5/5] END .................C=1, gamma=0.0001;, score=0.937 total time=   0.0s\n",
      "[CV 1/5] END .....................C=10, gamma=1;, score=0.938 total time=   0.0s\n",
      "[CV 2/5] END .....................C=10, gamma=1;, score=0.875 total time=   0.0s\n",
      "[CV 3/5] END .....................C=10, gamma=1;, score=0.927 total time=   0.0s\n",
      "[CV 4/5] END .....................C=10, gamma=1;, score=0.968 total time=   0.0s\n",
      "[CV 5/5] END .....................C=10, gamma=1;, score=0.937 total time=   0.0s\n",
      "[CV 1/5] END ...................C=10, gamma=0.1;, score=0.969 total time=   0.0s\n",
      "[CV 2/5] END ...................C=10, gamma=0.1;, score=0.917 total time=   0.0s\n",
      "[CV 3/5] END ...................C=10, gamma=0.1;, score=0.938 total time=   0.0s\n",
      "[CV 4/5] END ...................C=10, gamma=0.1;, score=0.989 total time=   0.0s\n",
      "[CV 5/5] END ...................C=10, gamma=0.1;, score=0.958 total time=   0.0s\n",
      "[CV 1/5] END ..................C=10, gamma=0.01;, score=0.979 total time=   0.0s\n",
      "[CV 2/5] END ..................C=10, gamma=0.01;, score=0.938 total time=   0.0s\n",
      "[CV 3/5] END ..................C=10, gamma=0.01;, score=0.938 total time=   0.0s\n",
      "[CV 4/5] END ..................C=10, gamma=0.01;, score=0.989 total time=   0.0s\n",
      "[CV 5/5] END ..................C=10, gamma=0.01;, score=0.979 total time=   0.0s\n",
      "[CV 1/5] END .................C=10, gamma=0.001;, score=0.969 total time=   0.0s\n",
      "[CV 2/5] END .................C=10, gamma=0.001;, score=0.958 total time=   0.0s\n",
      "[CV 3/5] END .................C=10, gamma=0.001;, score=0.948 total time=   0.0s\n",
      "[CV 4/5] END .................C=10, gamma=0.001;, score=0.989 total time=   0.0s\n",
      "[CV 5/5] END .................C=10, gamma=0.001;, score=0.968 total time=   0.0s\n",
      "[CV 1/5] END ................C=10, gamma=0.0001;, score=0.969 total time=   0.0s\n",
      "[CV 2/5] END ................C=10, gamma=0.0001;, score=0.948 total time=   0.0s\n",
      "[CV 3/5] END ................C=10, gamma=0.0001;, score=0.938 total time=   0.0s\n",
      "[CV 4/5] END ................C=10, gamma=0.0001;, score=0.989 total time=   0.0s\n",
      "[CV 5/5] END ................C=10, gamma=0.0001;, score=0.958 total time=   0.0s\n",
      "[CV 1/5] END ....................C=100, gamma=1;, score=0.948 total time=   0.0s\n",
      "[CV 2/5] END ....................C=100, gamma=1;, score=0.875 total time=   0.0s\n",
      "[CV 3/5] END ....................C=100, gamma=1;, score=0.927 total time=   0.0s\n",
      "[CV 4/5] END ....................C=100, gamma=1;, score=0.947 total time=   0.0s\n",
      "[CV 5/5] END ....................C=100, gamma=1;, score=0.937 total time=   0.0s\n",
      "[CV 1/5] END ..................C=100, gamma=0.1;, score=0.969 total time=   0.0s\n",
      "[CV 2/5] END ..................C=100, gamma=0.1;, score=0.875 total time=   0.0s\n",
      "[CV 3/5] END ..................C=100, gamma=0.1;, score=0.917 total time=   0.0s\n",
      "[CV 4/5] END ..................C=100, gamma=0.1;, score=0.989 total time=   0.0s\n",
      "[CV 5/5] END ..................C=100, gamma=0.1;, score=0.947 total time=   0.0s\n",
      "[CV 1/5] END .................C=100, gamma=0.01;, score=0.979 total time=   0.0s\n",
      "[CV 2/5] END .................C=100, gamma=0.01;, score=0.917 total time=   0.0s\n",
      "[CV 3/5] END .................C=100, gamma=0.01;, score=0.948 total time=   0.0s\n",
      "[CV 4/5] END .................C=100, gamma=0.01;, score=0.989 total time=   0.0s\n",
      "[CV 5/5] END .................C=100, gamma=0.01;, score=0.968 total time=   0.0s\n",
      "[CV 1/5] END ................C=100, gamma=0.001;, score=0.969 total time=   0.0s\n",
      "[CV 2/5] END ................C=100, gamma=0.001;, score=0.958 total time=   0.0s\n",
      "[CV 3/5] END ................C=100, gamma=0.001;, score=0.948 total time=   0.0s\n",
      "[CV 4/5] END ................C=100, gamma=0.001;, score=0.989 total time=   0.0s\n",
      "[CV 5/5] END ................C=100, gamma=0.001;, score=0.979 total time=   0.0s\n",
      "[CV 1/5] END ...............C=100, gamma=0.0001;, score=0.969 total time=   0.0s\n",
      "[CV 2/5] END ...............C=100, gamma=0.0001;, score=0.958 total time=   0.0s\n",
      "[CV 3/5] END ...............C=100, gamma=0.0001;, score=0.948 total time=   0.0s\n",
      "[CV 4/5] END ...............C=100, gamma=0.0001;, score=0.989 total time=   0.0s\n",
      "[CV 5/5] END ...............C=100, gamma=0.0001;, score=0.968 total time=   0.0s\n",
      "[CV 1/5] END ...................C=1000, gamma=1;, score=0.948 total time=   0.0s\n",
      "[CV 2/5] END ...................C=1000, gamma=1;, score=0.875 total time=   0.0s\n",
      "[CV 3/5] END ...................C=1000, gamma=1;, score=0.938 total time=   0.0s\n",
      "[CV 4/5] END ...................C=1000, gamma=1;, score=0.947 total time=   0.0s\n",
      "[CV 5/5] END ...................C=1000, gamma=1;, score=0.937 total time=   0.0s\n",
      "[CV 1/5] END .................C=1000, gamma=0.1;, score=0.927 total time=   0.0s\n",
      "[CV 2/5] END .................C=1000, gamma=0.1;, score=0.896 total time=   0.0s\n",
      "[CV 3/5] END .................C=1000, gamma=0.1;, score=0.927 total time=   0.0s\n",
      "[CV 4/5] END .................C=1000, gamma=0.1;, score=0.979 total time=   0.0s\n",
      "[CV 5/5] END .................C=1000, gamma=0.1;, score=0.937 total time=   0.0s\n",
      "[CV 1/5] END ................C=1000, gamma=0.01;, score=0.969 total time=   0.0s\n",
      "[CV 2/5] END ................C=1000, gamma=0.01;, score=0.917 total time=   0.0s\n",
      "[CV 3/5] END ................C=1000, gamma=0.01;, score=0.948 total time=   0.0s\n",
      "[CV 4/5] END ................C=1000, gamma=0.01;, score=0.989 total time=   0.0s\n",
      "[CV 5/5] END ................C=1000, gamma=0.01;, score=0.958 total time=   0.0s\n",
      "[CV 1/5] END ...............C=1000, gamma=0.001;, score=0.979 total time=   0.0s\n",
      "[CV 2/5] END ...............C=1000, gamma=0.001;, score=0.938 total time=   0.0s\n",
      "[CV 3/5] END ...............C=1000, gamma=0.001;, score=0.938 total time=   0.0s\n",
      "[CV 4/5] END ...............C=1000, gamma=0.001;, score=0.989 total time=   0.0s\n",
      "[CV 5/5] END ...............C=1000, gamma=0.001;, score=0.979 total time=   0.0s\n",
      "[CV 1/5] END ..............C=1000, gamma=0.0001;, score=0.969 total time=   0.0s\n"
     ]
    },
    {
     "name": "stdout",
     "output_type": "stream",
     "text": [
      "[CV 2/5] END ..............C=1000, gamma=0.0001;, score=0.958 total time=   0.0s\n",
      "[CV 3/5] END ..............C=1000, gamma=0.0001;, score=0.948 total time=   0.0s\n",
      "[CV 4/5] END ..............C=1000, gamma=0.0001;, score=0.989 total time=   0.0s\n",
      "[CV 5/5] END ..............C=1000, gamma=0.0001;, score=0.979 total time=   0.0s\n"
     ]
    },
    {
     "data": {
      "text/plain": [
       "GridSearchCV(estimator=SVC(),\n",
       "             param_grid={'C': [0.1, 1, 10, 100, 1000],\n",
       "                         'gamma': [1, 0.1, 0.01, 0.001, 0.0001]},\n",
       "             verbose=3)"
      ]
     },
     "execution_count": 19,
     "metadata": {},
     "output_type": "execute_result"
    }
   ],
   "source": [
    "from sklearn.model_selection import GridSearchCV\n",
    "param_grid = {'C':[0.1,1,10,100,1000],'gamma':[1,0.1,0.01,0.001,0.0001]}\n",
    "grid = GridSearchCV(SVC(),param_grid=param_grid,verbose = 3)\n",
    "grid.fit(X_tr,y_tr)"
   ]
  },
  {
   "cell_type": "code",
   "execution_count": 20,
   "id": "6a726651",
   "metadata": {},
   "outputs": [
    {
     "data": {
      "text/plain": [
       "{'C': 100, 'gamma': 0.001}"
      ]
     },
     "execution_count": 20,
     "metadata": {},
     "output_type": "execute_result"
    }
   ],
   "source": [
    "grid.best_params_"
   ]
  },
  {
   "cell_type": "code",
   "execution_count": 31,
   "id": "0f9331cf",
   "metadata": {},
   "outputs": [],
   "source": [
    "svc1  = SVC(C=100,gamma = 0.01)"
   ]
  },
  {
   "cell_type": "code",
   "execution_count": 33,
   "id": "ee82de05",
   "metadata": {},
   "outputs": [
    {
     "data": {
      "text/plain": [
       "SVC(C=100, gamma=0.01)"
      ]
     },
     "execution_count": 33,
     "metadata": {},
     "output_type": "execute_result"
    }
   ],
   "source": [
    "svc1.fit(X_tr,y_tr)"
   ]
  },
  {
   "cell_type": "code",
   "execution_count": 34,
   "id": "fb14d19b",
   "metadata": {},
   "outputs": [],
   "source": [
    "predictions_n = svc1.predict(X_te)"
   ]
  },
  {
   "cell_type": "code",
   "execution_count": 35,
   "id": "95b0c336",
   "metadata": {},
   "outputs": [
    {
     "data": {
      "text/plain": [
       "array([[142,   3],\n",
       "       [  0,  60]], dtype=int64)"
      ]
     },
     "execution_count": 35,
     "metadata": {},
     "output_type": "execute_result"
    }
   ],
   "source": [
    "confusion_matrix(y_te,predictions_n)"
   ]
  },
  {
   "cell_type": "code",
   "execution_count": 37,
   "id": "f50eb8e0",
   "metadata": {},
   "outputs": [
    {
     "name": "stdout",
     "output_type": "stream",
     "text": [
      "              precision    recall  f1-score   support\n",
      "\n",
      "           0       1.00      0.98      0.99       145\n",
      "           1       0.95      1.00      0.98        60\n",
      "\n",
      "    accuracy                           0.99       205\n",
      "   macro avg       0.98      0.99      0.98       205\n",
      "weighted avg       0.99      0.99      0.99       205\n",
      "\n"
     ]
    }
   ],
   "source": [
    "print(classification_report(y_te,predictions_n))"
   ]
  },
  {
   "cell_type": "code",
   "execution_count": 38,
   "id": "1b6892e5",
   "metadata": {},
   "outputs": [
    {
     "data": {
      "text/plain": [
       "<AxesSubplot:xlabel='result', ylabel='count'>"
      ]
     },
     "execution_count": 38,
     "metadata": {},
     "output_type": "execute_result"
    },
    {
     "data": {
      "image/png": "[encoded data removed]",
      "text/plain": [
       "<Figure size 432x288 with 1 Axes>"
      ]
     },
     "metadata": {
      "needs_background": "light"
     },
     "output_type": "display_data"
    }
   ],
   "source": [
    "sns.countplot(data = df,x=df['result'])"
   ]
  },
  {
   "cell_type": "code",
   "execution_count": 27,
   "id": "d6d8b47e",
   "metadata": {},
   "outputs": [
    {
     "data": {
      "text/plain": [
       "array([[-4.48210185,  0.02402335],\n",
       "       [ 4.81965073, -4.73973426],\n",
       "       [-4.63295991, -0.609533  ],\n",
       "       ...,\n",
       "       [10.26058339,  7.27245094],\n",
       "       [ 6.40116473,  2.4997811 ],\n",
       "       [ 7.50116539,  1.2122419 ]])"
      ]
     },
     "execution_count": 27,
     "metadata": {},
     "output_type": "execute_result"
    }
   ],
   "source": [
    "x_pca"
   ]
  },
  {
   "cell_type": "code",
   "execution_count": 28,
   "id": "165b07d2",
   "metadata": {},
   "outputs": [
    {
     "data": {
      "text/plain": [
       "array([[ 0.29673577,  0.40397067,  0.39275858,  0.33120214,  0.24973982,\n",
       "         0.44261347,  0.29207832,  0.35453597,  0.12457633],\n",
       "       [-0.07350664,  0.22992885,  0.16470098, -0.09819754,  0.20021505,\n",
       "        -0.78056963,  0.00847974,  0.46919452,  0.18806889]])"
      ]
     },
     "execution_count": 28,
     "metadata": {},
     "output_type": "execute_result"
    }
   ],
   "source": [
    "pca.components_"
   ]
  },
  {
   "cell_type": "code",
   "execution_count": 29,
   "id": "df513368",
   "metadata": {},
   "outputs": [
    {
     "data": {
      "text/html": [
       "<div>\n",
       "<style scoped>\n",
       "    .dataframe tbody tr th:only-of-type {\n",
       "        vertical-align: middle;\n",
       "    }\n",
       "\n",
       "    .dataframe tbody tr th {\n",
       "        vertical-align: top;\n",
       "    }\n",
       "\n",
       "    .dataframe thead th {\n",
       "        text-align: right;\n",
       "    }\n",
       "</style>\n",
       "<table border=\"1\" class=\"dataframe\">\n",
       "  <thead>\n",
       "    <tr style=\"text-align: right;\">\n",
       "      <th></th>\n",
       "      <th>Clump Thickness</th>\n",
       "      <th>Uniformity of Cell Size</th>\n",
       "      <th>Uniformity of Cell Shape</th>\n",
       "      <th>Marginal Adhesion</th>\n",
       "      <th>Single Epithelial Cell Size</th>\n",
       "      <th>Bare Nuclei</th>\n",
       "      <th>Bland Chromatin</th>\n",
       "      <th>Normal Nucleoli</th>\n",
       "      <th>Mitoses</th>\n",
       "    </tr>\n",
       "  </thead>\n",
       "  <tbody>\n",
       "    <tr>\n",
       "      <th>0</th>\n",
       "      <td>0.296736</td>\n",
       "      <td>0.403971</td>\n",
       "      <td>0.392759</td>\n",
       "      <td>0.331202</td>\n",
       "      <td>0.249740</td>\n",
       "      <td>0.442613</td>\n",
       "      <td>0.292078</td>\n",
       "      <td>0.354536</td>\n",
       "      <td>0.124576</td>\n",
       "    </tr>\n",
       "    <tr>\n",
       "      <th>1</th>\n",
       "      <td>-0.073507</td>\n",
       "      <td>0.229929</td>\n",
       "      <td>0.164701</td>\n",
       "      <td>-0.098198</td>\n",
       "      <td>0.200215</td>\n",
       "      <td>-0.780570</td>\n",
       "      <td>0.008480</td>\n",
       "      <td>0.469195</td>\n",
       "      <td>0.188069</td>\n",
       "    </tr>\n",
       "  </tbody>\n",
       "</table>\n",
       "</div>"
      ],
      "text/plain": [
       "   Clump Thickness  Uniformity of Cell Size  Uniformity of Cell Shape  \\\n",
       "0         0.296736                 0.403971                  0.392759   \n",
       "1        -0.073507                 0.229929                  0.164701   \n",
       "\n",
       "   Marginal Adhesion  Single Epithelial Cell Size  Bare Nuclei  \\\n",
       "0           0.331202                     0.249740     0.442613   \n",
       "1          -0.098198                     0.200215    -0.780570   \n",
       "\n",
       "   Bland Chromatin  Normal Nucleoli   Mitoses  \n",
       "0         0.292078         0.354536  0.124576  \n",
       "1         0.008480         0.469195  0.188069  "
      ]
     },
     "execution_count": 29,
     "metadata": {},
     "output_type": "execute_result"
    }
   ],
   "source": [
    "df_vis = pd.DataFrame(pca.components_ , columns=df.columns[1:-1])\n",
    "df_vis.head()"
   ]
  },
  {
   "cell_type": "code",
   "execution_count": 30,
   "id": "589e4e7c",
   "metadata": {},
   "outputs": [
    {
     "data": {
      "text/plain": [
       "<AxesSubplot:>"
      ]
     },
     "execution_count": 30,
     "metadata": {},
     "output_type": "execute_result"
    },
    {
     "data": {
      "image/png": "[encoded data removed]",
      "text/plain": [
       "<Figure size 864x576 with 2 Axes>"
      ]
     },
     "metadata": {
      "needs_background": "light"
     },
     "output_type": "display_data"
    }
   ],
   "source": [
    "plt.figure(figsize=(12,8))\n",
    "sns.heatmap(df_vis , cmap='plasma',linewidths=5)"
   ]
  },
  {
   "cell_type": "code",
   "execution_count": null,
   "id": "042a7c77",
   "metadata": {},
   "outputs": [],
   "source": []
  },
  {
   "cell_type": "code",
   "execution_count": null,
   "id": "5f2d3788",
   "metadata": {},
   "outputs": [],
   "source": []
  },
  {
   "cell_type": "code",
   "execution_count": null,
   "id": "3f6c06c7",
   "metadata": {},
   "outputs": [],
   "source": []
  }
 ],
 "metadata": {
  "kernelspec": {
   "display_name": "Python 3",
   "language": "python",
   "name": "python3"
  },
  "language_info": {
   "codemirror_mode": {
    "name": "ipython",
    "version": 3
   },
   "file_extension": ".py",
   "mimetype": "text/x-python",
   "name": "python",
   "nbconvert_exporter": "python",
   "pygments_lexer": "ipython3",
   "version": "3.8.8"
  }
 },
 "nbformat": 4,
 "nbformat_minor": 5
}
